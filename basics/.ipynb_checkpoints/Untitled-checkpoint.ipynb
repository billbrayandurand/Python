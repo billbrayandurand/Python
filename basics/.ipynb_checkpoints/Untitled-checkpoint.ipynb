{
 "cells": [
  {
   "cell_type": "markdown",
   "metadata": {},
   "source": [
    "**FUNCIONES**"
   ]
  },
  {
   "cell_type": "code",
   "execution_count": 2,
   "metadata": {},
   "outputs": [],
   "source": [
    "# -*- coding: utf-8 -*-\n",
    "# ------------- Definición de funciones -------------\n",
    "\n",
    "\n",
    "def imprimeNombre(cadNombre):\n",
    "    print (cadNombre)\n",
    "    return cadNombre[0], cadNombre[-1]\n",
    "\n",
    "\n",
    "def quienEs(cadNombre):\n",
    "    print (cadNombre + \" mejor conocido como el Childish Gambino.\\n\")\n"
   ]
  },
  {
   "cell_type": "code",
   "execution_count": 3,
   "metadata": {},
   "outputs": [
    {
     "name": "stdout",
     "output_type": "stream",
     "text": [
      "Donald Glover\n",
      "D\n",
      "r\n",
      "Donald Glover mejor conocido como el Childish Gambino.\n",
      "\n",
      "102\n"
     ]
    }
   ],
   "source": [
    "# ------------- Llamada a funciones -------------\n",
    "cadena = \"Donald Glover\"\n",
    "[x, y] = imprimeNombre(cadena)\n",
    "\n",
    "# Se imprimen los valores que regresa la función imprimeNombre\n",
    "print (x)\n",
    "print (y)\n",
    "quienEs(cadena)\n",
    "\n",
    "\n",
    "def segunda_coincidencia(cadUno, cadDos):\n",
    "    first = cadUno.find(cadDos)\n",
    "    return cadUno.find(cadDos, first + 1)\n",
    "\n",
    "\n",
    "s1 = \"Amor y deseo son dos cosas diferentes; que no todo lo que se ama se desea, ni todo lo que se desea se ama. (Don Quijote)\"\n",
    "s2 = \"ama\"\n",
    "\n",
    "print (segunda_coincidencia(s1, s2))"
   ]
  },
  {
   "cell_type": "code",
   "execution_count": 4,
   "metadata": {},
   "outputs": [
    {
     "name": "stdout",
     "output_type": "stream",
     "text": [
      "False\n",
      "True\n",
      "True\n",
      "False\n",
      "True\n",
      "4\n",
      "5\n",
      "False\n",
      "True\n",
      "False\n"
     ]
    }
   ],
   "source": [
    "# -*- coding: utf-8 -*-\n",
    "\n",
    "# ------------- Comparaciones -------------\n",
    "\n",
    "print (7 < 5)  # Falso\n",
    "print (7 > 5)  # Verdadero\n",
    "print ((11 * 3) + 2 == 36 - 1)  # Verdadero\n",
    "print ((11 * 3) + 2 >= 36)      # Falso\n",
    "print (\"curso\" != \"CuRsO\")    # Verdadero\n",
    "print (5 and 4) #Operacion en binario \n",
    "print (5 or 4)\n",
    "print (not(4 > 3))\n",
    "print (True)\n",
    "print (False)"
   ]
  },
  {
   "cell_type": "code",
   "execution_count": 7,
   "metadata": {},
   "outputs": [
    {
     "name": "stdout",
     "output_type": "stream",
     "text": [
      "0\n",
      "5\n",
      "10\n"
     ]
    }
   ],
   "source": [
    "  \n",
    "# -*- coding: utf-8 -*-\n",
    "\n",
    "cont = 0\n",
    "\n",
    "\n",
    "def incrementar():\n",
    "    global cont\n",
    "    print (cont)\n",
    "    #cont = 0\n",
    "    cont += 5\n",
    "\n",
    "\n",
    "\n",
    "incrementar()\n",
    "incrementar()\n",
    "print (cont)"
   ]
  },
  {
   "cell_type": "code",
   "execution_count": 9,
   "metadata": {},
   "outputs": [
    {
     "name": "stdout",
     "output_type": "stream",
     "text": [
      "Hola\n",
      "el número es 1\n",
      "Opción inválida\n"
     ]
    }
   ],
   "source": [
    "# -*- coding: utf-8 -*-\n",
    "# ------------- Estructura de selección if-else -------------\n",
    "\n",
    "# if-elif-else\n",
    "def numeros(entNum):\n",
    "    if entNum == 1:\n",
    "        print (\"el número es 1\")\n",
    "    elif entNum == 2:\n",
    "        print (\"el número es 2\")\n",
    "    elif entNum == 3:\n",
    "        print (\"el número es 3\")\n",
    "    elif entNum == 4:\n",
    "        print (\"el número es 4\")\n",
    "    else:\n",
    "        print (\"Opción inválida\")\n",
    "\n",
    "print (\"Hola\")\n",
    "\n",
    "\n",
    "numeros(1)\n",
    "numeros(5)"
   ]
  },
  {
   "cell_type": "code",
   "execution_count": null,
   "metadata": {},
   "outputs": [],
   "source": []
  }
 ],
 "metadata": {
  "kernelspec": {
   "display_name": "Python 3",
   "language": "python",
   "name": "python3"
  },
  "language_info": {
   "codemirror_mode": {
    "name": "ipython",
    "version": 3
   },
   "file_extension": ".py",
   "mimetype": "text/x-python",
   "name": "python",
   "nbconvert_exporter": "python",
   "pygments_lexer": "ipython3",
   "version": "3.7.3"
  }
 },
 "nbformat": 4,
 "nbformat_minor": 2
}
