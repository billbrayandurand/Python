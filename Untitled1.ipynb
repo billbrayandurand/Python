{
 "cells": [
  {
   "cell_type": "code",
   "execution_count": null,
   "metadata": {},
   "outputs": [],
   "source": [
    "\n",
    "\n",
    "print(\"Hola,¿Cómo te llamas?\")\n",
    "nombre = input(' ')\n",
    "print(\"Buen día\" + nombre )\n",
    "print(\"Hola,¿En que año naciste?\")\n",
    "ano = input(' ')\n",
    "today = date.today()\n",
    "edad = today.year - int(ano)\n",
    "generación = \"Centenial\"\n",
    "print (\"Tienes\" + str(edad) + \"anos\" )"
   ]
  },
  {
   "cell_type": "code",
   "execution_count": 17,
   "metadata": {},
   "outputs": [
    {
     "data": {
      "image/png": "[encoded data removed]",
      "text/plain": [
       "<Figure size 432x288 with 1 Axes>"
      ]
     },
     "metadata": {
      "needs_background": "light"
     },
     "output_type": "display_data"
    },
    {
     "data": {
      "text/plain": [
       "<Figure size 432x288 with 0 Axes>"
      ]
     },
     "metadata": {},
     "output_type": "display_data"
    }
   ],
   "source": [
    "import matplotlib.pyplot as var\n",
    "# %matplotlib_inline #para jupyter notebook\n",
    "#Grafica 2 vectores\n",
    "var.plot([\"Algoritmo\",\"Contabilidad\",\"T.I\", \"T.C\", \"Info 1\"],[9,6,10,10,5],'y*') #Vector en Y\n",
    "var.axis([-1,6,0,11])\n",
    "#Grafica por defecto el vecto X = 1, 2, 3, 4\n",
    "var.title('Promedio')\n",
    "var.ylabel('Calificación')\n",
    "var.xlabel('Asignaturas')\n",
    "var.show()\n",
    "var.savefig(\"graph.png\")\n"
   ]
  },
  {
   "cell_type": "code",
   "execution_count": null,
   "metadata": {},
   "outputs": [],
   "source": []
  },
  {
   "cell_type": "code",
   "execution_count": null,
   "metadata": {},
   "outputs": [],
   "source": []
  }
 ],
 "metadata": {
  "kernelspec": {
   "display_name": "Python 3",
   "language": "python",
   "name": "python3"
  },
  "language_info": {
   "codemirror_mode": {
    "name": "ipython",
    "version": 3
   },
   "file_extension": ".py",
   "mimetype": "text/x-python",
   "name": "python",
   "nbconvert_exporter": "python",
   "pygments_lexer": "ipython3",
   "version": "3.7.3"
  }
 },
 "nbformat": 4,
 "nbformat_minor": 2
}
